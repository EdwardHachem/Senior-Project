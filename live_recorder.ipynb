{
 "cells": [
  {
   "cell_type": "code",
   "execution_count": 1,
   "id": "f229b3a2",
   "metadata": {},
   "outputs": [],
   "source": [
    "from ipywebrtc import AudioRecorder, CameraStream\n",
    "import torchaudio\n",
    "from IPython.display import Audio\n",
    "from pydub import AudioSegment\n",
    "import math"
   ]
  },
  {
   "cell_type": "code",
   "execution_count": 20,
   "id": "6fae9fda",
   "metadata": {},
   "outputs": [
    {
     "data": {
      "application/vnd.jupyter.widget-view+json": {
       "model_id": "fe3fa6d8086746d1adb996db50dca2c5",
       "version_major": 2,
       "version_minor": 0
      },
      "text/plain": [
       "AudioRecorder(audio=Audio(value=b'', format='webm'), stream=CameraStream(constraints={'audio': True, 'video': …"
      ]
     },
     "metadata": {},
     "output_type": "display_data"
    }
   ],
   "source": [
    "camera = CameraStream(constraints={'audio': True,'video':False})\n",
    "recorder = AudioRecorder(stream=camera)\n",
    "recorder"
   ]
  },
  {
   "cell_type": "code",
   "execution_count": 21,
   "id": "3247cd41",
   "metadata": {},
   "outputs": [],
   "source": [
    "class SplitWavAudio():\n",
    "    def __init__(self, folder, filename):\n",
    "        self.folder = folder\n",
    "        self.filename = filename\n",
    "        self.filepath = folder + '\\\\' + filename\n",
    "        \n",
    "        self.audio = AudioSegment.from_wav(self.filepath)\n",
    "    \n",
    "    def get_duration(self):\n",
    "        return self.audio.duration_seconds\n",
    "    \n",
    "    def single_split(self, from_sec, to_sec, split_filename):\n",
    "        t1 = from_sec * 1000\n",
    "        t2 = to_sec * 1000\n",
    "        split_audio = self.audio[t1:t2]\n",
    "        split_audio.export(self.folder + '\\\\' + split_filename, format=\"wav\")\n",
    "        \n",
    "    def multiple_split(self, sec_per_split):\n",
    "        total_secs =   math.ceil(self.get_duration())\n",
    "        for i in range(0, total_secs, sec_per_split):\n",
    "            split_fn = str(i) + '_' + self.filename\n",
    "            self.single_split(i, i+sec_per_split, split_fn)\n",
    "            print(str(i) + ' Done')\n",
    "        print('Split successfully')"
   ]
  },
  {
   "cell_type": "code",
   "execution_count": 23,
   "id": "ee2108dc",
   "metadata": {},
   "outputs": [
    {
     "name": "stdout",
     "output_type": "stream",
     "text": [
      "0 Done\n",
      "4 Done\n",
      "8 Done\n",
      "All split successfully\n"
     ]
    }
   ],
   "source": [
    "with open('recording.webm', 'wb') as f:\n",
    "    f.write(recorder.audio.value)\n",
    "!ffmpeg -i recording.webm -ac 1 -f wav .\\audiofile.wav -y -hide_banner -loglevel panic\n",
    "# sig, sr = torchaudio.load(\".\\\\audiofile.wav\")\n",
    "# print(sig.shape)\n",
    "# Audio(data=sig, rate=sr)\n",
    "\n",
    "split = SplitWavAudio('.', 'audiofile.wav')\n",
    "split.multiple_split(4)"
   ]
  },
  {
   "cell_type": "code",
   "execution_count": null,
   "id": "e5a08b8c",
   "metadata": {},
   "outputs": [],
   "source": []
  }
 ],
 "metadata": {
  "kernelspec": {
   "display_name": "Python 3 (ipykernel)",
   "language": "python",
   "name": "python3"
  },
  "language_info": {
   "codemirror_mode": {
    "name": "ipython",
    "version": 3
   },
   "file_extension": ".py",
   "mimetype": "text/x-python",
   "name": "python",
   "nbconvert_exporter": "python",
   "pygments_lexer": "ipython3",
   "version": "3.10.9"
  }
 },
 "nbformat": 4,
 "nbformat_minor": 5
}
